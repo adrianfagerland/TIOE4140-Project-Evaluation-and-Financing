{
 "cells": [
  {
   "cell_type": "code",
   "execution_count": 2,
   "metadata": {},
   "outputs": [],
   "source": [
    "import numpy as np\n",
    "from scipy.stats import norm, multivariate_normal\n",
    "import pandas as pd\n",
    "from scipy.optimize import newton"
   ]
  },
  {
   "cell_type": "markdown",
   "metadata": {},
   "source": [
    "# Problems from McDonald (2013)"
   ]
  },
  {
   "cell_type": "markdown",
   "metadata": {},
   "source": [
    "## 16.7"
   ]
  },
  {
   "cell_type": "markdown",
   "metadata": {},
   "source": [
    "The formula for Delta-Gamma-Theta approximation:\n",
    "\n",
    "$$\n",
    "\\begin{aligned}\n",
    "C(S_t, t) \\approx C(S, 0) &+ \\Delta(S, 0) \\times [S_t - S] \\\\\n",
    "&+ \\frac{1}{2} \\times \\Gamma(S, 0) \\times [S_t - S]^2 \\\\\n",
    "&+ \\theta(S, 0) \\times t\n",
    "\\end{aligned}\n",
    "$$\n",
    "\n",
    "First, we can compute $d_1$ and $d_2$:\n",
    "\n",
    "$$d_1 = \\frac{\\ln(\\frac{S}{K}) + (r - \\delta + \\frac{\\sigma^2}{2}) \\times T}{\\sigma \\times \\sqrt{T}} = \\frac{\\ln(\\frac{40}{40}) + (0.08 - 0 + \\frac{0.3^2}{2}) \\times 0.49315}{0.3 \\times \\sqrt{0.49315}} = 0.2926$$\n",
    "\n",
    "$$d_2 = d_1 - \\sigma \\times \\sqrt{T} = 0.2926 - 0.3 \\times \\sqrt{0.49315} = 0.08193$$\n",
    "\n",
    "Now using the Black-Scholes formula we compute the Greeks at Day 0.\n",
    "\n",
    "$$\\Delta = e^{-\\delta \\times T} \\times N(d_1) = e^{-0 \\times 0.49315} \\times N(0.2926) = 0.6151$$\n",
    "\n",
    "$$\\Gamma = \\frac{N'(d_1)}{S \\times \\sigma \\times \\sqrt{T}} = \\frac{\\frac{1}{\\sqrt{2\\pi}}e^{-0.2926^2/2}}{40 \\times 0.3 \\times \\sqrt{0.49315}}=0.4536$$\n",
    "\n",
    "$$\\theta = \\frac{-S \\times N'(d_1)\\times \\sigma}{2\\sqrt{T}} - r \\times K \\times e^{-rT} \\times N(d_2)$$\n",
    "$$= \\frac{-40 \\times N'(0.2926)\\times 0.3}{2\\sqrt{0.49315}} - 0.08 \\times 40 \\times e^{-0.08 \\times 0.49315} \\times N(0.08193) = -0.0134 \\text{ per day}$$\n",
    "\n",
    "Initial Call Premium:\n",
    "$$C(S,0) = S \\times e^{-\\delta \\times T} \\times N(d_1) - K \\times e^{-r \\times T} \\times N(d_2) = \\$4.122$$"
   ]
  },
  {
   "cell_type": "code",
   "execution_count": 29,
   "metadata": {},
   "outputs": [
    {
     "name": "stdout",
     "output_type": "stream",
     "text": [
      "\\begin{tabular}{lrrrrrr}\n",
      "\\toprule\n",
      " & \\multicolumn{2}{r}{1} & \\multicolumn{2}{r}{5} & \\multicolumn{2}{r}{25} \\\\\n",
      " & Actual & Predicted & Actual & Predicted & Actual & Predicted \\\\\n",
      "Stock Price &  &  &  &  &  &  \\\\\n",
      "\\midrule\n",
      "36.00 & 2.0365 & 2.0108 & 1.9921 & 1.9571 & 1.7660 & 1.6884 \\\\\n",
      "36.25 & 2.1424 & 2.1207 & 2.0971 & 2.0669 & 1.8663 & 1.7982 \\\\\n",
      "36.50 & 2.2515 & 2.2333 & 2.2053 & 2.1796 & 1.9701 & 1.9108 \\\\\n",
      "36.75 & 2.3637 & 2.3488 & 2.3168 & 2.2951 & 2.0773 & 2.0264 \\\\\n",
      "37.00 & 2.4792 & 2.4672 & 2.4315 & 2.4134 & 2.1880 & 2.1447 \\\\\n",
      "37.25 & 2.5979 & 2.5883 & 2.5495 & 2.5346 & 2.3020 & 2.2659 \\\\\n",
      "37.50 & 2.7198 & 2.7123 & 2.6707 & 2.6586 & 2.4195 & 2.3899 \\\\\n",
      "37.75 & 2.8449 & 2.8392 & 2.7951 & 2.7854 & 2.5403 & 2.5167 \\\\\n",
      "38.00 & 2.9730 & 2.9689 & 2.9226 & 2.9151 & 2.6645 & 2.6464 \\\\\n",
      "38.25 & 3.1044 & 3.1014 & 3.0534 & 3.0476 & 2.7921 & 2.7789 \\\\\n",
      "38.50 & 3.2387 & 3.2367 & 3.1872 & 3.1830 & 2.9231 & 2.9142 \\\\\n",
      "38.75 & 3.3762 & 3.3749 & 3.3241 & 3.3211 & 3.0573 & 3.0524 \\\\\n",
      "39.00 & 3.5167 & 3.5159 & 3.4642 & 3.4622 & 3.1948 & 3.1934 \\\\\n",
      "39.25 & 3.6602 & 3.6598 & 3.6072 & 3.6060 & 3.3355 & 3.3373 \\\\\n",
      "39.50 & 3.8067 & 3.8064 & 3.7533 & 3.7527 & 3.4794 & 3.4840 \\\\\n",
      "39.75 & 3.9560 & 3.9560 & 3.9023 & 3.9022 & 3.6265 & 3.6335 \\\\\n",
      "40.00 & 4.1083 & 4.1083 & 4.0542 & 4.0546 & 3.7767 & 3.7858 \\\\\n",
      "40.25 & 4.2634 & 4.2635 & 4.2090 & 4.2098 & 3.9300 & 3.9410 \\\\\n",
      "40.50 & 4.4213 & 4.4215 & 4.3667 & 4.3678 & 4.0863 & 4.0991 \\\\\n",
      "40.75 & 4.5820 & 4.5824 & 4.5271 & 4.5286 & 4.2456 & 4.2599 \\\\\n",
      "41.00 & 4.7454 & 4.7461 & 4.6903 & 4.6923 & 4.4078 & 4.4236 \\\\\n",
      "41.25 & 4.9114 & 4.9126 & 4.8562 & 4.8589 & 4.5729 & 4.5901 \\\\\n",
      "41.50 & 5.0800 & 5.0820 & 5.0247 & 5.0282 & 4.7408 & 4.7595 \\\\\n",
      "41.75 & 5.2513 & 5.2542 & 5.1958 & 5.2004 & 4.9115 & 4.9317 \\\\\n",
      "42.00 & 5.4250 & 5.4292 & 5.3695 & 5.3755 & 5.0848 & 5.1067 \\\\\n",
      "42.25 & 5.6012 & 5.6071 & 5.5456 & 5.5533 & 5.2609 & 5.2846 \\\\\n",
      "42.50 & 5.7798 & 5.7878 & 5.7242 & 5.7340 & 5.4395 & 5.4653 \\\\\n",
      "42.75 & 5.9607 & 5.9713 & 5.9052 & 5.9176 & 5.6206 & 5.6488 \\\\\n",
      "43.00 & 6.1440 & 6.1577 & 6.0885 & 6.1039 & 5.8043 & 5.8352 \\\\\n",
      "43.25 & 6.3295 & 6.3469 & 6.2741 & 6.2931 & 5.9903 & 6.0244 \\\\\n",
      "43.50 & 6.5173 & 6.5389 & 6.4619 & 6.4852 & 6.1787 & 6.2165 \\\\\n",
      "43.75 & 6.7071 & 6.7338 & 6.6519 & 6.6801 & 6.3694 & 6.4113 \\\\\n",
      "44.00 & 6.8991 & 6.9315 & 6.8440 & 6.8778 & 6.5623 & 6.6090 \\\\\n",
      "\\bottomrule\n",
      "\\end{tabular}\n",
      "\n"
     ]
    }
   ],
   "source": [
    "def black_scholes_call(S, K, T, r, sigma, delta_div):\n",
    "    d1 = (np.log(S / K) + (r - delta_div + 0.5 * sigma ** 2) * T) / (sigma * np.sqrt(T))\n",
    "    d2 = d1 - sigma * np.sqrt(T)\n",
    "    call_price = S * np.exp(-delta_div * T) * norm.cdf(d1) - K * np.exp(-r * T) * norm.cdf(d2)\n",
    "    return call_price\n",
    "\n",
    "def call_delta(S, K, T, r, sigma, delta):\n",
    "    d1 = (np.log(S / K) + (r - delta + 0.5 * sigma ** 2) * T) / (sigma * np.sqrt(T))\n",
    "    return np.exp(-delta * T) * norm.cdf(d1)\n",
    "\n",
    "def call_gamma(S, K, T, r, sigma, delta):\n",
    "    d1 = (np.log(S / K) + (r - delta + 0.5 * sigma ** 2) * T) / (sigma * np.sqrt(T))\n",
    "    return norm.pdf(d1) / (S * sigma * np.sqrt(T))\n",
    "\n",
    "def call_theta(S, K, T, r, sigma, delta):\n",
    "    d1 = (np.log(S / K) + (r - delta + 0.5 * sigma ** 2) * T) / (sigma * np.sqrt(T))\n",
    "    d2 = d1 - sigma * np.sqrt(T)\n",
    "    theta = - (S * norm.pdf(d1) * sigma) / (2 * np.sqrt(T)) - r * K * np.exp(-r * T) * norm.cdf(d2)\n",
    "    return theta/365\n",
    "\n",
    "S = 40\n",
    "K = 40\n",
    "sigma = 0.30\n",
    "r = 0.08\n",
    "delta_div = 0\n",
    "T = 180/365\n",
    "\n",
    "delta = call_delta(S, K, T, r, sigma, delta_div)\n",
    "gamma = call_gamma(S, K, T, r, sigma, delta_div)\n",
    "theta = call_theta(S, K, T, r, sigma, delta_div)\n",
    "initial_call_premium = black_scholes_call(S,K,T,r,sigma, delta_div)\n",
    "# print(f'initial_call_premium={initial_call_premium}\\n')\n",
    "# print(f'delta={delta}\\n')\n",
    "# print(f'gamma={gamma}\\n')\n",
    "# print(f'theta={theta}\\n')\n",
    "\n",
    "days = [1, 5, 25]\n",
    "stock_prices = np.arange(36, 44.25, 0.25)\n",
    "results = {}\n",
    "\n",
    "for day in days:\n",
    "    results[day] = {}\n",
    "    for price in stock_prices:\n",
    "        predicted_premium = initial_call_premium + delta * (price - S) + 0.5 * gamma * (price - S)**2 + theta * day\n",
    "        actual_premium = black_scholes_call(price, K, T - day/365, r, sigma, delta_div)\n",
    "        results[day][price] = {'Predicted': predicted_premium, 'Actual': actual_premium}\n",
    "\n",
    "# Build a nested dictionary with stock prices as keys\n",
    "table = {}\n",
    "for day, price_dict in results.items():\n",
    "    for price, values in price_dict.items():\n",
    "        if price not in table:\n",
    "            table[price] = {}\n",
    "        table[price][(day, 'Predicted')] = values['Predicted']\n",
    "        table[price][(day, 'Actual')] = values['Actual']\n",
    "\n",
    "df = pd.DataFrame.from_dict(table, orient='index')\n",
    "df.index.name = 'Stock Price'\n",
    "# Sort columns by day (as integer) and then by subcolumn order (Predicted first)\n",
    "df = df.sort_index(axis=1, level=0)\n",
    "df.index = df.index.map(lambda x: f\"{x:.2f}\")\n",
    "\n",
    "# Print as LaTeX\n",
    "print(df.to_latex(multicolumn=True, float_format=\"%.4f\"))"
   ]
  },
  {
   "cell_type": "markdown",
   "metadata": {},
   "source": [
    "The approximation is most accurate when the change in the underlying stock price and time are both small. As these increase, the approximation becomes less accurate."
   ]
  },
  {
   "cell_type": "markdown",
   "metadata": {},
   "source": [
    "## 17.11"
   ]
  },
  {
   "cell_type": "markdown",
   "metadata": {},
   "source": [
    "### a.\n",
    "\n",
    "We are given: $S_0 = \\$40$, $\\sigma = 0.30$, $\\delta = 0$, $K = \\$40$, $r = 0.08$, and $T = 2$ years. We'll use the Black-Scholes formula to determine the price of the call.\n",
    "\n",
    "$d_1 = \\frac{\\ln(\\frac{S_0}{K}) + (r - \\delta + \\frac{\\sigma^2}{2})T}{\\sigma\\sqrt{T}} = \\frac{\\ln(\\frac{40}{40}) + (0.08 - 0 + \\frac{0.3^2}{2})2}{0.3\\sqrt{2}} = 0.49497$\n",
    "\n",
    "$d_2 = d_1 - \\sigma\\sqrt{T} = 0.49497 - 0.3\\sqrt{2} = 0.0707$\n",
    "\n",
    "Now, the Call option price is\n",
    "\n",
    "$C = S_0 e^{-\\delta T}N(d_1) - Ke^{-rT}N(d_2) = 40 \\times e^{-0 \\times 2} \\times N(0.49497) - 40 \\times e^{-0.08 \\times 2} \\times N(0.0707) = 40 \\times 0.6897 - 40 \\times e^{-0.16} \\times 0.5282 = \\$9.864$"
   ]
  },
  {
   "cell_type": "markdown",
   "metadata": {},
   "source": [
    "### b.\n",
    "\n",
    "This compound call gives the right to buy the 2-year call option (from part a) in 1 year for $2. We will exercise the call option at time $t=1$ when the value of the option at that time is larger than $\\$2$.\n",
    "\n",
    "We must obtain the price $S_1$ such that, when entered to the black-scholes formula, will give us a call option price of $2."
   ]
  },
  {
   "cell_type": "code",
   "execution_count": 30,
   "metadata": {},
   "outputs": [
    {
     "name": "stdout",
     "output_type": "stream",
     "text": [
      "After calculating in Python: The stock price S1 at which the compound call is exercised: $31.72\n"
     ]
    }
   ],
   "source": [
    "def black_scholes_call(S, K, T, r, sigma, delta_div):\n",
    "    d1 = (np.log(S / K) + (r - delta_div + 0.5 * sigma ** 2) * T) / (sigma * np.sqrt(T))\n",
    "    d2 = d1 - sigma * np.sqrt(T)\n",
    "    call_price = S * np.exp(-delta_div * T) * norm.cdf(d1) - K * np.exp(-r * T) * norm.cdf(d2)\n",
    "    return call_price\n",
    "\n",
    "def find_S1(target_price, K, T, r, sigma, delta_div):\n",
    "\n",
    "    def price_difference(S):\n",
    "        return black_scholes_call(S, K, T, r, sigma, delta_div) - target_price\n",
    "\n",
    "    S1 = newton(price_difference, 40)\n",
    "    return S1\n",
    "\n",
    "K = 40\n",
    "T = 1\n",
    "r = 0.08\n",
    "sigma = 0.30\n",
    "delta_div = 0\n",
    "target_price = 2\n",
    "\n",
    "S1_star = find_S1(target_price, K, T, r, sigma, delta_div)\n",
    "print(f\"After calculating in Python: The stock price S1 at which the compound call is exercised: ${S1_star:.2f}\")\n"
   ]
  },
  {
   "cell_type": "markdown",
   "metadata": {},
   "source": [
    "So, we will want to execute the compound option when $S_1 > \\$31.72$."
   ]
  },
  {
   "cell_type": "markdown",
   "metadata": {},
   "source": [
    "### c.\n",
    "\n",
    "We are pricing a call on a call. We have an option that gives the right after $t=1$ to buy a call for $x = \\$2$ and with expiration date $T = 2$ years. We already computed $S_1^*=\\$35.89$, at which price, we are going to start paying for the call. The price for the compound call is found by using Geske's Formula.\n",
    "\n",
    "$C_c = S_0e^{-\\delta T}M(a_1, b_1; \\rho) - Ke^{-rT}M(a_2, b_2; \\rho) - e^{-r t}xN(a_2)$\n",
    "\n",
    "Where:\n",
    "$a_1 = \\frac{\\ln(\\frac{S_0}{S^*_1}) + (r-\\delta+\\frac{\\sigma^2}{2})t}{\\sigma\\sqrt{t}}=\\frac{\\ln(\\frac{40}{35.89}) + (0.08 - 0 + \\frac{0.3^2}{2})1}{0.3\\sqrt{1}} = 0.76844$\n",
    "$a_2 = a_1 - \\sigma\\sqrt{t} = 0.76844 - 0.3 = 0.46844$\n",
    "\n",
    "$b_1 = \\frac{\\ln(\\frac{S_0}{K}) + (r - \\delta + \\frac{\\sigma^2}{2})T}{\\sigma\\sqrt{T}}=\\frac{\\ln(\\frac{40}{40}) + (0.08 - 0 + \\frac{0.3^2}{2})2}{0.3\\sqrt{2}}=0.49497$\n",
    "$b_2 = b_1 - \\sigma\\sqrt{T} = 0.0707$\n",
    "\n",
    "$\\rho = \\sqrt{\\frac{t}{T}} = \\sqrt{\\frac{1}{2}} = 0.7071$\n",
    "\n",
    "$M(a,b, \\rho)$ is the cumulative bivariate normal distribution.\n",
    "\n",
    "\n"
   ]
  },
  {
   "cell_type": "code",
   "execution_count": 31,
   "metadata": {},
   "outputs": [
    {
     "name": "stdout",
     "output_type": "stream",
     "text": [
      "After calculating in Python: Price of compound call option is: $7.8419\n"
     ]
    }
   ],
   "source": [
    "def compound_call(S0, K, T, t, r, sigma, delta, x, S_star):\n",
    "    a1 = (np.log(S0 / S_star) + (r - delta + 0.5 * sigma ** 2) * t) / (sigma * np.sqrt(t))\n",
    "    a2 = a1 - sigma * np.sqrt(t)\n",
    "    b1 = (np.log(S0 / K) + (r - delta + 0.5 * sigma ** 2) * T) / (sigma * np.sqrt(T))\n",
    "    b2 = b1 - sigma * np.sqrt(T)\n",
    "    rho = np.sqrt(t / T)\n",
    "\n",
    "    mvn1 = multivariate_normal(mean=[0, 0], cov=[[1, rho], [rho, 1]])\n",
    "    M1 = mvn1.cdf([a1, b1])\n",
    "\n",
    "    mvn2 = multivariate_normal(mean=[0, 0], cov=[[1, rho], [rho, 1]])\n",
    "    M2 = mvn2.cdf([a2, b2])\n",
    "\n",
    "\n",
    "    compound_c = S0 * np.exp(-delta * T) * M1 - K * np.exp(-r * T) * M2 - np.exp(-r * t) * x * norm.cdf(a2)\n",
    "    return compound_c\n",
    "\n",
    "S0 = 40\n",
    "K = 40\n",
    "T = 2\n",
    "t = 1\n",
    "r = 0.08\n",
    "sigma = 0.30\n",
    "delta = 0\n",
    "x = 2\n",
    "S_star = 35.89\n",
    "Cc = compound_call(S0, K, T, t, r, sigma, delta, x, S_star)\n",
    "print(f\"After calculating in Python: Price of compound call option is: ${Cc:.4f}\")"
   ]
  },
  {
   "cell_type": "markdown",
   "metadata": {},
   "source": [
    "### d.\n",
    "\n",
    "Here, we have a put on a call. We have an option that gives the right after $t = 1$ to sell a call option for $x = \\$2$. We want to find the price of the compound put. The option with expiration at $T=2$. Geske's formula for a compound put is:\n",
    "\n",
    "$P_c = Ke^{-rT}M(-a_2, b_2; -\\rho) - S_0e^{-\\delta T}M(-a_1, b_1; -\\rho) + e^{-rt}xN(-a_2)$\n",
    "\n",
    "Where $a_1, a_2, b_1, b_2, \\rho$ are the same as on part c."
   ]
  },
  {
   "cell_type": "code",
   "execution_count": 33,
   "metadata": {},
   "outputs": [
    {
     "name": "stdout",
     "output_type": "stream",
     "text": [
      "After calculating in Python: Compound Put Price: $0.0783\n"
     ]
    }
   ],
   "source": [
    "def compound_put(S0, K, T, t, r, sigma, delta, x, S_star):\n",
    "    a1 = (np.log(S0 / S_star) + (r - delta + 0.5 * sigma ** 2) * t) / (sigma * np.sqrt(t))\n",
    "    a2 = a1 - sigma * np.sqrt(t)\n",
    "    b1 = (np.log(S0 / K) + (r - delta + 0.5 * sigma ** 2) * T) / (sigma * np.sqrt(T))\n",
    "    b2 = b1 - sigma * np.sqrt(T)\n",
    "    rho = np.sqrt(t / T)\n",
    "\n",
    "    # note the -rho for the compound put\n",
    "    mvn1 = multivariate_normal(mean=[0, 0], cov=[[1, -rho], [-rho, 1]])\n",
    "    M1 = mvn1.cdf([-a1, b1])\n",
    "\n",
    "    mvn2 = multivariate_normal(mean=[0, 0], cov=[[1, -rho], [-rho, 1]])\n",
    "    M2 = mvn2.cdf([-a2, b2])\n",
    "\n",
    "    compound_p =  K * np.exp(-r * T) * M2 - S0 * np.exp(-delta * T) * M1 + np.exp(-r * t) * x * norm.cdf(-a2)\n",
    "    return compound_p\n",
    "\n",
    "S0 = 40\n",
    "K = 40\n",
    "T = 2\n",
    "t = 1\n",
    "r = 0.08\n",
    "sigma = 0.30\n",
    "delta = 0\n",
    "x = 2\n",
    "S_star = 35.89\n",
    "\n",
    "Cp = compound_put(S0, K, T, t, r, sigma, delta, x, S_star)\n",
    "print(f\"After calculating in Python: Compound Put Price: ${Cp:.4f}\")"
   ]
  },
  {
   "cell_type": "markdown",
   "metadata": {},
   "source": [
    "## 21.13"
   ]
  },
  {
   "cell_type": "markdown",
   "metadata": {},
   "source": [
    "Since the cash flows grow at the same rate as the risk-free rate during the initial 10 years, we can recognize that these cash flows are equivalent to the initial cash flow of $1. The cash flow after year 10 remains constant.\n",
    "We want to find the present value formula for the project, we denote the time in which we invest $t^*$. The value of the cash flows at time $t^*$ is:\n",
    "\n",
    "$$\n",
    "PV_{t^*} = \\sum_{i=1}^{10} \\frac{1*(1.05)^{i-1}}{(1.05)^{i}} + \\frac{1}{0.05}*\\frac{(1.05)^{9}}{(1.05)^{10}} = 28.5714\n",
    "$$\n",
    "\n",
    "So at the moment of starting the project ($t^*$), the present value of benefits is \\$28.5714. Therefore, the net present value at time zero is:\n",
    "\n",
    "$$NPV(t^*) = \\frac{PV_{t^*} - I}{(1+r)^{t^*}}$$\n",
    "\n",
    "We should invest as soon as $PV \\ge I$, therefore, the best is to invest immediately at $t=0$.\n",
    "\n",
    "The value of investing at time $t=0$ is:\n",
    "$NPV(0) = PV_0 - 20 =  8.5714$. The value of the option to invest is simply the NPV of the project, as it is the most optimal to start as soon as possible.\n",
    "\n"
   ]
  },
  {
   "cell_type": "markdown",
   "metadata": {},
   "source": [
    "## 21.14"
   ]
  },
  {
   "cell_type": "markdown",
   "metadata": {},
   "source": [
    "The land’s value is the option to extract the oil plus the residual value discounted back, like a perpetual American call option.\n",
    "\n",
    "The option value is $V(S) = A S^\\beta$ when $S < S^*$. First, we need $\\beta$ from the quadratic equation $\\frac{1}{2} \\sigma^2 \\beta (\\beta - 1) + (r - \\delta) \\beta - r = 0$. Calculating with Python gives $\\beta = 1.512430$ (the positive root).\n",
    "\n",
    "Next, the optimal exercise threshold is $S^* = \\frac{\\beta (X - R)}{\\beta - 1}$. With $X - R = 12.60$ and $\\beta - 1 = 0.512430$, we get $S^* = 37.19$. So, extraction happens when the oil price hits $37.19$.\n",
    "\n",
    "Then, we find $A$ using the value-matching condition $A (S^*)^\\beta = S^ - X + R$. The payoff is $S^* - X + R = 24.59$, and $(S^*)^\\beta = 237.21$, so $A = 0.103657$.\n",
    "\n",
    "Finally, the land’s value at $S = 15$ is $V(S) = A S^\\beta$. With $S^\\beta = 60.08$, we compute $V(15)= 6.23$. Since $15 < 37.19$, we don’t extract now, and $6.23$ is the land’s value."
   ]
  },
  {
   "cell_type": "markdown",
   "metadata": {},
   "source": [
    "## Exam problem"
   ]
  },
  {
   "cell_type": "markdown",
   "metadata": {},
   "source": [
    "Since the cash flows grow at the same rate as the risk-free rate during the initial 10 years, we can recognize that these cash flows are equivalent to the initial cash flow of $1. The cash flow after year 10 remains constant.\n",
    "We want to find the present value formula for the project, we denote the time in which we invest $t^*$. The value of the cash flows at time $t^*$ is:\n",
    "\n",
    "$$\n",
    "PV_{t^*} = \\sum_{i=1}^{10} \\frac{1*(1.05)^{i-1}}{(1.05)^{i}} + \\frac{1}{0.05}*\\frac{(1.05)^{9}}{(1.05)^{10}} = 28.5714\n",
    "$$\n",
    "\n",
    "So at the moment of starting the project ($t^*$), the present value of benefits is \\$28.5714. Therefore, the net present value at time zero is:\n",
    "\n",
    "$$NPV(t^*) = \\frac{PV_{t^*} - I}{(1+r)^{t^*}}$$\n",
    "\n",
    "We should invest as soon as $PV \\ge I$, therefore, the best is to invest immediately at $t=0$.\n",
    "\n",
    "The value of investing at time $t=0$ is:\n",
    "$NPV(0) = PV_0 - 20 =  8.5714$. The value of the option to invest is simply the NPV of the project, as it is the most optimal to start as soon as possible.\n",
    "\n"
   ]
  },
  {
   "cell_type": "markdown",
   "metadata": {},
   "source": [
    "### a)\n",
    "\n",
    "The price of a European gap call option can be computed using a variation of the Black-Scholes formula.\n",
    "\n",
    "Given that there is no dividend, we set $q = 0$.  Substituting the provided values into the Black-Scholes formula:\n",
    "\n",
    "$$d_1 = \\frac{\\ln(100/100) + (0.02 + 0.8^2/2) \\cdot 2}{0.8 \\sqrt{2}} \\approx 0.6010$$\n",
    "\n",
    "$$d_2 = d_1 - \\sigma \\sqrt{T} = 0.6010 - 0.8\\sqrt{2} \\approx -0.5303$$\n",
    "\n",
    "$N(d_1) \\approx 0.7261$ and $N(d_2) \\approx 0.2979$.\n",
    "\n",
    "Substituting these into the gap call option price formula:\n",
    "\n",
    "$$ C = 100 \\cdot 0.7261 - 150e^{-0.02\\cdot2} \\cdot 0.2979 \\approx 29.6705$$\n",
    "\n",
    "Therefore, the price of one gap call option is approximately 29.67.\n",
    "\n",
    "### b)\n",
    "\n",
    "The Black-Scholes formula for a plain vanilla call option is:\n",
    "\n",
    "$$C_{vanilla} = S_0 e^{-qT} N(d_{1,vanilla}) - K e^{-rT} N(d_{2,vanilla})$$\n",
    "\n",
    "where\n",
    "\n",
    "$$d_{1,vanilla} = \\frac{\\ln(S_0/K) + (r - q + \\sigma^2/2)T}{\\sigma\\sqrt{T}}$$\n",
    "\n",
    "$$d_{2,vanilla} = d_{1,vanilla} - \\sigma \\sqrt{T}$$\n",
    "\n",
    "The critical difference is that the gap call option uses the trigger price, $L$, in the calculation of $d_1$ and $d_2$, while the vanilla option uses the strike price, $K$. This leads to different values for $N(d_1)$ and $N(d_2)$, and therefore a different option price.\n",
    "\n",
    "The gap call option price can be expressed as:\n",
    "\n",
    "$$C_{gap} = S_0  N(d_1) - K e^{-rT}  N(d_2)$$\n",
    "\n",
    "where $d_1$ and $d_2$ are calculated using $L$ (the trigger), as shown in part a. The vanilla call option, in contrast, would use $K$ in its $d_1$ and $d_2$ calculations. The core formula structure is the same; it is the inputs to the $d_1$ and $d_2$ terms that create the difference."
   ]
  }
 ],
 "metadata": {
  "kernelspec": {
   "display_name": ".venv",
   "language": "python",
   "name": "python3"
  },
  "language_info": {
   "codemirror_mode": {
    "name": "ipython",
    "version": 3
   },
   "file_extension": ".py",
   "mimetype": "text/x-python",
   "name": "python",
   "nbconvert_exporter": "python",
   "pygments_lexer": "ipython3",
   "version": "3.13.1"
  }
 },
 "nbformat": 4,
 "nbformat_minor": 2
}

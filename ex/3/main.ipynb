{
 "cells": [
  {
   "cell_type": "markdown",
   "metadata": {},
   "source": [
    "# Problem from McDonald (2013)"
   ]
  },
  {
   "cell_type": "markdown",
   "metadata": {},
   "source": [
    "## a.\n",
    "\n",
    "To find the 3-year swap price, we equate the present value of receiving the forward prices ($20, $21, $22) to the present value of paying the fixed swap price (S) for 3 years, discounted at given interest rates.  Calculating this gives a 3-year swap price of approximately $20.95."
   ]
  },
  {
   "cell_type": "markdown",
   "metadata": {},
   "source": [
    "## b.\n",
    "\n",
    "For the 2-year swap starting in one year, we equate the present value of receiving forward prices for year 2 and 3 ($21, $22) to the present value of paying a fixed swap price (S) for 2 years (settling at year 2 and 3), all discounted back to time 0.  Calculating this gives a swap price of approximately $21.48."
   ]
  },
  {
   "cell_type": "markdown",
   "metadata": {},
   "source": [
    "# Programming of Binomial pricing of European and American options"
   ]
  },
  {
   "cell_type": "markdown",
   "metadata": {},
   "source": [
    "The code for this exercise is included in the attached notebook `main.ipynb`."
   ]
  },
  {
   "cell_type": "markdown",
   "metadata": {},
   "source": [
    "## a."
   ]
  },
  {
   "cell_type": "markdown",
   "metadata": {},
   "source": [
    "The `binomial_european_option_value` function calculates European option prices. It starts by computing parameters like time step, up/down factors, and risk-neutral probability, considering continuous dividends.  Then, it constructs a binomial tree of stock prices. At expiration, option payoffs are calculated.  Finally, it uses backward induction, discounting expected option values at each step to find the option price at time zero.  This process values the option by working backwards from expiration to the present."
   ]
  },
  {
   "cell_type": "code",
   "execution_count": 33,
   "metadata": {},
   "outputs": [],
   "source": [
    "import numpy as np\n",
    "\n",
    "\n",
    "def binomial_european_option_value(\n",
    "    S: float,\n",
    "    K: float,\n",
    "    T: float,\n",
    "    r: float,\n",
    "    sigma: float,\n",
    "    q: float,\n",
    "    N: int,\n",
    "    option_type: str = \"call\",\n",
    ") -> float:\n",
    "    delta_t = T / N\n",
    "    u = np.exp(sigma * np.sqrt(delta_t))\n",
    "    d = 1 / u\n",
    "    p = (np.exp((r - q) * delta_t) - d) / (u - d)\n",
    "\n",
    "    # init stock price tree\n",
    "    stock_prices = np.zeros((N + 1, N + 1))\n",
    "    stock_prices[0, 0] = S\n",
    "\n",
    "    for i in range(1, N + 1):\n",
    "        for j in range(i + 1):\n",
    "            stock_prices[i, j] = S * (u ** (j)) * (d ** (i - j))\n",
    "\n",
    "    # init option value tree at expiration\n",
    "    option_values = np.zeros((N + 1, N + 1))\n",
    "\n",
    "    for j in range(N + 1):\n",
    "        if option_type == \"call\":\n",
    "            option_values[N, j] = max(0, stock_prices[N, j] - K)\n",
    "        elif option_type == \"put\":\n",
    "            option_values[N, j] = max(0, K - stock_prices[N, j])\n",
    "        else:\n",
    "            raise ValueError(\"Option type must be 'call' or 'put'\")\n",
    "\n",
    "    # Backward induction to find option value at time 0\n",
    "    for i in range(N - 1, -1, -1):\n",
    "        for j in range(i + 1):\n",
    "            option_values[i, j] = (\n",
    "                p * option_values[i + 1, j + 1] + (1 - p) * option_values[i + 1, j]\n",
    "            ) * np.exp(-r * delta_t)\n",
    "\n",
    "    return option_values[0, 0]\n",
    "\n",
    "\n",
    "S_european = 100  # Stock price\n",
    "K_european = 100  # Strike price\n",
    "T_european = 1  # Time to maturity (years)\n",
    "r_european = 0.05  # Risk-free rate\n",
    "sigma_european = 0.2  # Volatility\n",
    "q_european = 0.02  # Dividend yield\n",
    "N_european = 100  # Number of steps\n",
    "\n",
    "european_call_value = binomial_european_option_value(\n",
    "    S_european,\n",
    "    K_european,\n",
    "    T_european,\n",
    "    r_european,\n",
    "    sigma_european,\n",
    "    q_european,\n",
    "    N_european,\n",
    "    option_type=\"call\",\n",
    ")\n",
    "european_put_value = binomial_european_option_value(\n",
    "    S_european,\n",
    "    K_european,\n",
    "    T_european,\n",
    "    r_european,\n",
    "    sigma_european,\n",
    "    q_european,\n",
    "    N_european,\n",
    "    option_type=\"put\",\n",
    ")\n",
    "\n",
    "# print(f\"European Call Option Value: {european_call_value:.4f}\\n\")\n",
    "# print(f\"European Put Option Value: {european_put_value:.4f}\")"
   ]
  },
  {
   "cell_type": "markdown",
   "metadata": {},
   "source": [
    "## b."
   ]
  },
  {
   "cell_type": "markdown",
   "metadata": {},
   "source": [
    "The `binomial_american_option_value` function calculates American option prices. It largely follows the same initial steps as the European option function, including parameter calculation and stock price tree construction. The key difference is in the backward induction. For American options, at each step, the code considers both the continuation value (holding the option) and the intrinsic value (exercising immediately). The option value at each node is then the maximum of these two values. This accounts for the early exercise feature of American options, making sure the option holder always makes the optimal decision at each time step. The function also uses backward induction to arrive at the option price at time zero, but with the added consideration of early exercise at every step."
   ]
  },
  {
   "cell_type": "code",
   "execution_count": 34,
   "metadata": {},
   "outputs": [],
   "source": [
    "def binomial_american_option_value(\n",
    "    S: float,\n",
    "    K: float,\n",
    "    T: float,\n",
    "    r: float,\n",
    "    sigma: float,\n",
    "    q: float,\n",
    "    N: int,\n",
    "    option_type: str = \"call\",\n",
    ") -> float:\n",
    "    delta_t = T / N\n",
    "    u = np.exp(sigma * np.sqrt(delta_t))\n",
    "    d = 1 / u\n",
    "    p = (np.exp((r - q) * delta_t) - d) / (u - d)\n",
    "\n",
    "    # init stock price tree\n",
    "    stock_prices = np.zeros((N + 1, N + 1))\n",
    "    stock_prices[0, 0] = S\n",
    "\n",
    "    for i in range(1, N + 1):\n",
    "        for j in range(i + 1):\n",
    "            stock_prices[i, j] = S * (u ** (j)) * (d ** (i - j))\n",
    "\n",
    "    # init option value tree at expiration\n",
    "    option_values = np.zeros((N + 1, N + 1))\n",
    "\n",
    "    for j in range(N + 1):\n",
    "        if option_type == \"call\":\n",
    "            option_values[N, j] = max(0, stock_prices[N, j] - K)\n",
    "        elif option_type == \"put\":\n",
    "            option_values[N, j] = max(0, K - stock_prices[N, j])\n",
    "        else:\n",
    "            raise ValueError(\"Option type must be 'call' or 'put'\")\n",
    "\n",
    "    # Backward induction to find option value at time 0, considering early exercise\n",
    "    for i in range(N - 1, -1, -1):\n",
    "        for j in range(i + 1):\n",
    "            # continuation value\n",
    "            continuation_value = (\n",
    "                p * option_values[i + 1, j + 1] + (1 - p) * option_values[i + 1, j]\n",
    "            ) * np.exp(-r * delta_t)\n",
    "\n",
    "            # intrinsic value\n",
    "            if option_type == \"call\":\n",
    "                intrinsic_value = max(0, stock_prices[i, j] - K)\n",
    "            elif option_type == \"put\":\n",
    "                intrinsic_value = max(0, K - stock_prices[i, j])\n",
    "\n",
    "            option_values[i, j] = max(intrinsic_value, continuation_value)\n",
    "\n",
    "    return option_values[0, 0]\n",
    "\n",
    "\n",
    "S_american = 100  # Stock price\n",
    "K_american = 100  # Strike price\n",
    "T_american = 1  # Time to maturity (years)\n",
    "r_american = 0.05  # Risk-free rate\n",
    "sigma_american = 0.2  # Volatility\n",
    "q_american = 0.02  # Dividend yield\n",
    "N_american = 100  # Number of steps\n",
    "\n",
    "american_call_value = binomial_american_option_value(\n",
    "    S_american,\n",
    "    K_american,\n",
    "    T_american,\n",
    "    r_american,\n",
    "    sigma_american,\n",
    "    q_american,\n",
    "    N_american,\n",
    "    option_type=\"call\",\n",
    ")\n",
    "american_put_value = binomial_american_option_value(\n",
    "    S_american,\n",
    "    K_american,\n",
    "    T_american,\n",
    "    r_american,\n",
    "    sigma_american,\n",
    "    q_american,\n",
    "    N_american,\n",
    "    option_type=\"put\",\n",
    ")\n",
    "\n",
    "# print(f\"American Call Option Value: {american_call_value:.4f}\")\n",
    "# print(f\"American Put Option Value: {american_put_value:.4f}\")"
   ]
  },
  {
   "cell_type": "markdown",
   "metadata": {},
   "source": [
    "# Problem from other source"
   ]
  },
  {
   "cell_type": "markdown",
   "metadata": {},
   "source": [
    "To value a 4-month European call option using a two-step binomial tree, we first calculate the key parameters for a 2-month time step using their formulas and get: $u \\approx 1.1303$, $d \\approx 0.8847$, and $p \\approx 0.4899$, based on the given volatility, risk-free rate, and time step. Using these parameters, we construct a two-step binomial tree for the stock price starting at \\$78 and progressing over two 2-month periods. At expiration (4 months), we determine the payoffs of the call option at each possible final stock price. By employing backward induction, we discount the expected option values at each node back to the initial time, resulting in an estimated value of approximately $4.66 for the 4-month European call option.\n",
    "\n",
    "To hedge a short position of 1,000 of these call options (equivalent to 10 contracts) at the time of the trade, we calculate the delta of the option at time 0. Delta is found to be approximately 0.4989, representing the number of shares needed to hedge each option. Therefore, to hedge the sold options, the trader should buy approximately 499 shares of the underlying stock at the time of the trade. This long position in the stock offsets the risk associated with the short call option position."
   ]
  }
 ],
 "metadata": {
  "kernelspec": {
   "display_name": ".venv",
   "language": "python",
   "name": "python3"
  },
  "language_info": {
   "codemirror_mode": {
    "name": "ipython",
    "version": 3
   },
   "file_extension": ".py",
   "mimetype": "text/x-python",
   "name": "python",
   "nbconvert_exporter": "python",
   "pygments_lexer": "ipython3",
   "version": "3.13.1"
  }
 },
 "nbformat": 4,
 "nbformat_minor": 2
}

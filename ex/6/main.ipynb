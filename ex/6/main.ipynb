{
 "cells": [
  {
   "cell_type": "markdown",
   "metadata": {},
   "source": [
    "# Chapter 26: The Black-Scholes-Merton Equation"
   ]
  },
  {
   "cell_type": "markdown",
   "metadata": {},
   "source": [
    "Remembering\n",
    "\n",
    "$$d_1 = \\frac{\\ln(S/K) + (r - \\delta + \\frac{1}{2}\\sigma^2)(T-t)}{\\sigma\\sqrt{T-t}}$$\n",
    "\n",
    "Calculating the required partial derivatives\n",
    "\n",
    "\n",
    "1.  $\\frac{\\partial V}{\\partial t}$:\n",
    "\n",
    "    We use the product rule, and chain rule.\n",
    "    $\\frac{\\partial V}{\\partial t} = Se^{-\\delta(T-t)} \\left( \\delta N(d_1) + \\frac{\\partial N(d_1)}{\\partial t}   \\right)$.\n",
    "\n",
    "    Note that $\\frac{\\partial N(d_1)}{\\partial t} = N'(d_1)\\frac{\\partial d_1}{\\partial t}$.\n",
    "    $N'(d_1)$ is just the pdf of the standard normal distribution, with $d_1$ as an argument.\n",
    "\n",
    "    After calculating $\\frac{\\partial d_1}{\\partial t}$, we get that\n",
    "    $$\\frac{\\partial V}{\\partial t} = \\delta Se^{-\\delta(T-t)}N(d_1) + Se^{-\\delta(T-t)}N'(d_1) \\left[ -\\frac{\\ln(S/K)}{2\\sigma(T-t)^{3/2}} + \\frac{r-\\delta + \\sigma^2/2}{-\\sigma \\sqrt{T-t}} \\right]$$\n",
    "    $$\\frac{\\partial V}{\\partial t} = \\delta Se^{-\\delta(T-t)}N(d_1) + Se^{-\\delta(T-t)}N'(d_1) \\left[ \\frac{-\\sigma^2(T-t)d_1 - (r-\\delta+\\sigma^2/2)(T-t)}{\\sigma(T-t)\\sqrt{T-t}} \\right]$$\n",
    "    $$\\frac{\\partial V}{\\partial t} = Se^{-\\delta(T-t)}\\left(\\delta N(d_1) - \\frac{N'(d_1)}{\\sigma\\sqrt{T-t}}\\left[(r - \\delta + \\frac{1}{2}\\sigma^2) + d_1\\sigma\\frac{1}{\\sqrt{T-t}} \\right]\\right)$$\n",
    "\n",
    "2.  $\\frac{\\partial V}{\\partial S}$:\n",
    "\n",
    "    Using the chain rule, we have:\n",
    "    $$\\frac{\\partial V}{\\partial S} = e^{-\\delta(T-t)}N(d_1) + Se^{-\\delta(T-t)}N'(d_1)\\frac{\\partial d_1}{\\partial S}$$\n",
    "    Since $\\frac{\\partial d_1}{\\partial S} = \\frac{1}{S\\sigma\\sqrt{T-t}}$, the result is,\n",
    "    $$\\frac{\\partial V}{\\partial S} = e^{-\\delta(T-t)}\\left[N(d_1) + \\frac{N'(d_1)}{\\sigma\\sqrt{T-t}} \\right]$$\n",
    "\n",
    "3.  $\\frac{\\partial^2 V}{\\partial S^2}$:\n",
    "\n",
    "    $$\\frac{\\partial^2 V}{\\partial S^2} = e^{-\\delta(T-t)}N'(d_1)\\frac{\\partial d_1}{\\partial S} + e^{-\\delta(T-t)} \\left[ \\frac{N''(d_1)\\frac{\\partial d_1}{\\partial S} \\sigma\\sqrt{T-t} - N'(d_1) \\sigma\\sqrt{T-t} \\frac{\\partial d_1}{\\partial S}}{\\sigma^2(T-t)}\\right]$$\n",
    "\n",
    "    After simplifying by applying $\\frac{\\partial d_1}{\\partial S} = \\frac{1}{S\\sigma\\sqrt{T-t}}$, it reduces to\n",
    "\n",
    "    $$\\frac{\\partial^2 V}{\\partial S^2} = \\frac{e^{-\\delta(T-t)}}{S\\sigma\\sqrt{T-t}}\\left[ N'(d_1)\\left(\\frac{-d_1}{S\\sigma\\sqrt{T-t}}\\right)\\right]$$\n",
    "    $$\\frac{\\partial^2 V}{\\partial S^2} = -\\frac{e^{-\\delta(T-t)} N'(d_1)d_1}{S^2\\sigma^2(T-t)}$$\n",
    "\n",
    "\n",
    "Plugging these values into the Black-Scholes equation, we get $0=0$.\n",
    "\n",
    "Hence, $V(S, t) = Se^{-\\delta(T-t)}N(d_1)$ satisfies the Black-Scholes equation."
   ]
  },
  {
   "cell_type": "markdown",
   "metadata": {},
   "source": [
    "# Exercises from other sources 1"
   ]
  },
  {
   "cell_type": "markdown",
   "metadata": {},
   "source": [
    "## (a)\n",
    "\n",
    "$f = e^{-r(T-t)} \\mathbb{E}^*[\\ln(S_T)]$, where $\\mathbb{E}^*$ denotes the expectation under the risk-neutral measure.\n",
    "\n",
    "Under the risk-neutral measure, the stock price follows a geometric Brownian motion:\n",
    "\n",
    "$S_T = S_t e^{(r - \\frac{1}{2}\\sigma^2)(T-t) + \\sigma W^*_{(T-t)}}$, where $W^*_{(T-t)}$ is a standard Brownian motion under the risk-neutral measure, and thus is normally distributed ~$N(0, T-t)$.\n",
    "\n",
    "Taking the natural logarithm of both sides:\n",
    "\n",
    "$$\\ln(S_T) = \\ln(S_t) + (r - \\frac{1}{2}\\sigma^2)(T-t) + \\sigma W^*_{(T-t)}$$\n",
    "\n",
    "Calculating $\\mathbb{E}^*[\\ln(S_T)]$:\n",
    "$$E^*(\\ln S_T) = \\ln S + (r- \\frac{\\sigma^2}{2})(T-t)$$\n",
    "\n",
    "Substituting into the pricing formula:\n",
    "$$f = e^{-r(T-t)}[\\ln(S_t) + (r - \\frac{1}{2}\\sigma^2)(T-t)]$$\n",
    "\n",
    "## (b)\n",
    "\n",
    "1.  $\\frac{\\partial f}{\\partial t}$:\n",
    "\n",
    "    $$\\frac{\\partial f}{\\partial t} = re^{-r(T-t)}[\\ln(S) + (r - \\frac{1}{2}\\sigma^2)(T-t)] + e^{-r(T-t)}[-(r-\\frac{\\sigma^2}{2})]$$\n",
    "    $$\\frac{\\partial f}{\\partial t} = rf - e^{-r(T-t)}(r - \\frac{1}{2}\\sigma^2)$$\n",
    "2.  $\\frac{\\partial f}{\\partial S}$:\n",
    "\n",
    "    $$\\frac{\\partial f}{\\partial S} = e^{-r(T-t)}\\frac{1}{S}$$\n",
    "\n",
    "3.  $\\frac{\\partial^2 f}{\\partial S^2}$:\n",
    "\n",
    "    $$\\frac{\\partial^2 f}{\\partial S^2} = -e^{-r(T-t)}\\frac{1}{S^2}$$\n",
    "\n",
    "Substituting into equation:\n",
    "\n",
    "$$rf - e^{-r(T-t)}(r - \\frac{1}{2}\\sigma^2) + \\frac{\\sigma^2}{2}S^2(-e^{-r(T-t)}\\frac{1}{S^2}) + rSe^{-r(T-t)}\\frac{1}{S} - rf = 0$$\n",
    "\n",
    "Simplifying leads to:\n",
    "\n",
    "$$-e^{-r(T - t)}(r - \\frac{1}{2}\\sigma^2) - \\frac{1}{2}\\sigma^2e^{-r(T-t)} + re^{-r(T-t)} = 0$$\n",
    "hence\n",
    "$0 = 0$\n",
    "\n",
    "Thus, the price $f$ does satisfy the equation.\n"
   ]
  },
  {
   "cell_type": "markdown",
   "metadata": {},
   "source": [
    "# Exercises from other sources 2"
   ]
  },
  {
   "cell_type": "markdown",
   "metadata": {},
   "source": [
    "The code is in the attached notebook."
   ]
  },
  {
   "cell_type": "markdown",
   "metadata": {},
   "source": [
    "## a"
   ]
  },
  {
   "cell_type": "code",
   "execution_count": 7,
   "metadata": {},
   "outputs": [
    {
     "name": "stderr",
     "output_type": "stream",
     "text": [
      "[*********************100%***********************]  1 of 1 completed"
     ]
    },
    {
     "name": "stdout",
     "output_type": "stream",
     "text": [
      "Annualized Volatility for AAPL: 0.2383\n",
      "\n",
      "Last Closing Price: 248.01\n",
      "\n"
     ]
    },
    {
     "name": "stderr",
     "output_type": "stream",
     "text": [
      "\n"
     ]
    }
   ],
   "source": [
    "import yfinance as yf\n",
    "import numpy as np\n",
    "import pandas as pd\n",
    "\n",
    "def get_annualized_volatility(ticker, period=\"1y\"):\n",
    "    data = yf.download(ticker, period=period)\n",
    "    closing_prices = data['Close']\n",
    "    log_returns = np.log(closing_prices / closing_prices.shift(1))\n",
    "    daily_volatility = log_returns.std()\n",
    "    annualized_volatility = daily_volatility * np.sqrt(252)\n",
    "    return annualized_volatility.item(), closing_prices.iloc[-1].item()\n",
    "\n",
    "ticker_symbol = \"AAPL\"\n",
    "annualized_vol, last_close = get_annualized_volatility(ticker_symbol)\n",
    "print(f\"Annualized Volatility for {ticker_symbol}: {annualized_vol:.4f}\\n\")\n",
    "print(f\"Last Closing Price: {last_close:.2f}\\n\")"
   ]
  },
  {
   "cell_type": "markdown",
   "metadata": {},
   "source": [
    "## b"
   ]
  },
  {
   "cell_type": "code",
   "execution_count": 2,
   "metadata": {},
   "outputs": [
    {
     "name": "stdout",
     "output_type": "stream",
     "text": [
      "Asian Call Option Price: 3.7913\n",
      "\n",
      "Asian Call Option Price STD: 5.8150\n",
      "\n"
     ]
    }
   ],
   "source": [
    "def price_asian_option(S0, K, r, delta, sigma, T, n_simulations, n_steps):\n",
    "    dt = T / n_steps\n",
    "    all_paths = []\n",
    "\n",
    "    for _ in range(n_simulations):\n",
    "        path = [S0]\n",
    "        S = S0\n",
    "        for _ in range(n_steps):\n",
    "            z = np.random.standard_normal()\n",
    "            S *= np.exp((r - delta - 0.5 * sigma**2) * dt + sigma * np.sqrt(dt) * z)\n",
    "            path.append(S)\n",
    "        all_paths.append(path)\n",
    "\n",
    "    average_prices = np.mean(all_paths, axis=1)  \n",
    "\n",
    "    payoffs = np.maximum(average_prices - K, 0)\n",
    "\n",
    "    option_price = np.exp(-r * T) * np.mean(payoffs)\n",
    "    option_std = np.exp(-r*T) * np.std(payoffs)\n",
    "    return option_price, option_std\n",
    "\n",
    "S0 = last_close\n",
    "K = last_close \n",
    "r = 0.025     \n",
    "delta = 0.04 \n",
    "sigma = annualized_vol  \n",
    "T = 1/12               \n",
    "n_simulations = 10000 \n",
    "n_steps = 21         \n",
    "\n",
    "\n",
    "call_price, call_std = price_asian_option(S0, K, r, delta, sigma, T, n_simulations, n_steps)\n",
    "print(f\"Asian Call Option Price: {call_price:.4f}\\n\")\n",
    "print(f\"Asian Call Option Price STD: {call_std:.4f}\\n\")"
   ]
  },
  {
   "cell_type": "markdown",
   "metadata": {},
   "source": [
    "## c"
   ]
  },
  {
   "cell_type": "code",
   "execution_count": 3,
   "metadata": {},
   "outputs": [
    {
     "name": "stdout",
     "output_type": "stream",
     "text": [
      "\\begin{tabular}{lrr}\n",
      "\\toprule\n",
      " & Price & STD \\\\\n",
      "\\midrule\n",
      "100 & 4.094162 & 5.931863 \\\\\n",
      "1000 & 3.659383 & 5.689137 \\\\\n",
      "10000 & 3.769529 & 5.758022 \\\\\n",
      "20000 & 3.792481 & 5.729376 \\\\\n",
      "50000 & 3.767705 & 5.749505 \\\\\n",
      "100000 & 3.817293 & 5.800743 \\\\\n",
      "\\bottomrule\n",
      "\\end{tabular}\n",
      "\n"
     ]
    }
   ],
   "source": [
    "sim_counts = [100, 1000, 10000, 20000, 50000, 100000]\n",
    "results = []\n",
    "for n_sim in sim_counts:\n",
    "  res, std = price_asian_option(S0, K, r, delta, sigma, T, n_sim, n_steps)\n",
    "  results.append([res, std])\n",
    "print(pd.DataFrame(results, sim_counts, [\"Price\", \"STD\"]).to_latex())"
   ]
  }
 ],
 "metadata": {
  "kernelspec": {
   "display_name": ".venv",
   "language": "python",
   "name": "python3"
  },
  "language_info": {
   "codemirror_mode": {
    "name": "ipython",
    "version": 3
   },
   "file_extension": ".py",
   "mimetype": "text/x-python",
   "name": "python",
   "nbconvert_exporter": "python",
   "pygments_lexer": "ipython3",
   "version": "3.13.1"
  }
 },
 "nbformat": 4,
 "nbformat_minor": 2
}

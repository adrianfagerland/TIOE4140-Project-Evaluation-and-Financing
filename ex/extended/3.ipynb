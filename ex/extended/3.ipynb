{
 "cells": [
  {
   "cell_type": "markdown",
   "metadata": {},
   "source": [
    "## 3"
   ]
  },
  {
   "cell_type": "code",
   "execution_count": 4,
   "metadata": {},
   "outputs": [],
   "source": [
    "tons = 200000  # Annual LNG quantity\n",
    "forward_prices = [400, 420, 450]  # Forward prices per ton for Years 1, 2, 3\n",
    "rates = [0.015, 0.02, 0.025]  # Effective annual interest rates for 1, 2, 3 years"
   ]
  },
  {
   "cell_type": "markdown",
   "metadata": {},
   "source": [
    "### b."
   ]
  },
  {
   "cell_type": "code",
   "execution_count": 13,
   "metadata": {},
   "outputs": [
    {
     "name": "stdout",
     "output_type": "stream",
     "text": [
      "2.8749898670345817\n",
      "Part b) Fixed swap price per ton: $422.84\n",
      "Total annual payment for 200000 tons: $84,567,205.40\n"
     ]
    }
   ],
   "source": [
    "# PV of forward prices\n",
    "pv_forward = sum(f / (1 + r) ** (i + 1) for i, (f, r) in enumerate(zip(forward_prices, rates)))\n",
    "\n",
    "# Sum of discount factors for fixed payments\n",
    "discount_sum = sum(1 / (1 + r) ** (i + 1) for i, r in enumerate(rates))\n",
    "print(discount_sum)\n",
    "\n",
    "# Fixed swap price per ton\n",
    "S = pv_forward / discount_sum\n",
    "total_annual_payment = S * tons\n",
    "\n",
    "print(f\"Part b) Fixed swap price per ton: ${S:.2f}\")\n",
    "print(f\"Total annual payment for {tons} tons: ${total_annual_payment:,.2f}\")\n",
    "\n"
   ]
  },
  {
   "cell_type": "markdown",
   "metadata": {},
   "source": [
    "### c."
   ]
  },
  {
   "cell_type": "code",
   "execution_count": 10,
   "metadata": {},
   "outputs": [
    {
     "name": "stdout",
     "output_type": "stream",
     "text": [
      "Part c) NPV of GasExpo's cash flows: $-0.0000\n",
      "NPV of Counterparty's cash flows: $0.0000\n"
     ]
    }
   ],
   "source": [
    "# Cash flows to GasExpo: Ft - S each year, discounted back to time 0\n",
    "npv_gasexpo = sum((f - S) / (1 + r) ** (i + 1) for i, (f, r) in enumerate(zip(forward_prices, rates)))\n",
    "npv_counterparty = -npv_gasexpo  # Counterparty's NPV is opposite\n",
    "\n",
    "print(f\"Part c) NPV of GasExpo's cash flows: ${npv_gasexpo:.4f}\")\n",
    "print(f\"NPV of Counterparty's cash flows: ${npv_counterparty:.4f}\")"
   ]
  },
  {
   "cell_type": "markdown",
   "metadata": {},
   "source": [
    "### d."
   ]
  },
  {
   "cell_type": "code",
   "execution_count": 11,
   "metadata": {},
   "outputs": [
    {
     "name": "stdout",
     "output_type": "stream",
     "text": [
      "Part d) Cumulative PV of overpayment per ton after Year 2: $25.2244\n",
      "Total cumulative overpayment for 200000 tons: $5,044,889.87\n"
     ]
    }
   ],
   "source": [
    "overpayments = [(S - f) for f in forward_prices[:2]]  # Years 1 and 2\n",
    "pv_overpayments = [op / (1 + rates[i]) ** (i + 1) for i, op in enumerate(overpayments)]\n",
    "cumulative_pv_overpayment_per_ton = sum(pv_overpayments)\n",
    "total_overpayment = cumulative_pv_overpayment_per_ton * tons\n",
    "\n",
    "print(f\"Part d) Cumulative PV of overpayment per ton after Year 2: ${cumulative_pv_overpayment_per_ton:.4f}\")\n",
    "print(f\"Total cumulative overpayment for {tons} tons: ${total_overpayment:,.2f}\")"
   ]
  }
 ],
 "metadata": {
  "kernelspec": {
   "display_name": ".venv",
   "language": "python",
   "name": "python3"
  },
  "language_info": {
   "codemirror_mode": {
    "name": "ipython",
    "version": 3
   },
   "file_extension": ".py",
   "mimetype": "text/x-python",
   "name": "python",
   "nbconvert_exporter": "python",
   "pygments_lexer": "ipython3",
   "version": "3.13.1"
  }
 },
 "nbformat": 4,
 "nbformat_minor": 2
}
